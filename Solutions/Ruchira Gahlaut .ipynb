{
 "cells": [
  {
   "cell_type": "code",
   "execution_count": 7,
   "metadata": {},
   "outputs": [
    {
     "name": "stdout",
     "output_type": "stream",
     "text": [
      "[1, 4, 9, 16, 25]\n"
     ]
    }
   ],
   "source": [
    "# lambda function\n",
    "lst=[1,2,3,4,5]\n",
    "t=[]\n",
    "for i in lst:\n",
    "    o=(lambda i:i**2)(i)\n",
    "    t.append(o)\n",
    "print(t)"
   ]
  },
  {
   "cell_type": "code",
   "execution_count": 1,
   "metadata": {},
   "outputs": [
    {
     "name": "stdout",
     "output_type": "stream",
     "text": [
      "[7, 26, 101, 284, 669]\n"
     ]
    }
   ],
   "source": [
    "# map function\n",
    "def ma(x,y,z):\n",
    "    e=x**2\n",
    "    f=y//2\n",
    "    w=e*e+f*f+z\n",
    "    sum=e+f+w\n",
    "    return sum\n",
    "lst1=[1,2,3,4,5]\n",
    "lst2=[2,3,4,5,6]\n",
    "lst3=[3,4,5,6,7]\n",
    "print(list(map(ma,lst1,lst2,lst3)))\n"
   ]
  },
  {
   "cell_type": "code",
   "execution_count": 1,
   "metadata": {},
   "outputs": [
    {
     "name": "stdout",
     "output_type": "stream",
     "text": [
      "(102.56, 97.7, 99.14, 100.4, 100.03999999999999)\n"
     ]
    }
   ],
   "source": [
    "# map function\n",
    "tuple1 = (39.2, 36.5, 37.3, 38, 37.8) \n",
    "j= tuple(map(lambda x: (float(9)/5)*x + 32, tuple1))\n",
    "print(j)"
   ]
  },
  {
   "cell_type": "code",
   "execution_count": 11,
   "metadata": {},
   "outputs": [
    {
     "name": "stdout",
     "output_type": "stream",
     "text": [
      "[1, 153, 370, 371, 407]\n"
     ]
    }
   ],
   "source": [
    "#filter\n",
    "import math\n",
    "def fil(x):\n",
    "    sum=0\n",
    "    n=x\n",
    "    while(x>0):\n",
    "        r=x%10\n",
    "        sum=sum+r*r*r\n",
    "        x=x//10\n",
    "    if(sum==n):\n",
    "        return(sum)\n",
    "numbers=range(1,1000)\n",
    "print(list(filter(fil,numbers)))"
   ]
  },
  {
   "cell_type": "code",
   "execution_count": 8,
   "metadata": {},
   "outputs": [
    {
     "name": "stdout",
     "output_type": "stream",
     "text": [
      "['e', 'i']\n"
     ]
    }
   ],
   "source": [
    "# filter\n",
    "def fil(vowel):\n",
    "    letters=[\"a\",\"e\",\"i\",\"o\",\"u\"]\n",
    "    if(vowel in letters):\n",
    "        return vowel\n",
    "lst=[\"w\",\"r\",\"d\",\"e\",\"g\",\"h\",\"y\",\"i\",\"x\"]\n",
    "print(list(filter(fil,lst)))"
   ]
  },
  {
   "cell_type": "code",
   "execution_count": 17,
   "metadata": {},
   "outputs": [
    {
     "name": "stdout",
     "output_type": "stream",
     "text": [
      "5\n"
     ]
    }
   ],
   "source": [
    "#reduce\n",
    "from functools import reduce\n",
    "lst=[1,2,3,4,5]\n",
    "print (reduce(lambda a,b:a if a > b else b,lst))"
   ]
  },
  {
   "cell_type": "code",
   "execution_count": 6,
   "metadata": {},
   "outputs": [
    {
     "data": {
      "text/plain": [
       "34.0"
      ]
     },
     "execution_count": 6,
     "metadata": {},
     "output_type": "execute_result"
    }
   ],
   "source": [
    "# partial\n",
    "from functools import partial\n",
    "def burst(n1,n2,n3):\n",
    "    sum1=n1**0.5+n2**3+n3\n",
    "    return sum1\n",
    "temp=partial(burst,n1=4,n2=3,)\n",
    "temp(n3=5)"
   ]
  },
  {
   "cell_type": "code",
   "execution_count": 13,
   "metadata": {},
   "outputs": [
    {
     "name": "stdout",
     "output_type": "stream",
     "text": [
      "28\n"
     ]
    }
   ],
   "source": [
    "#args\n",
    "def ar(arg1,*args):\n",
    "    sum1=arg1\n",
    "    for i in args:\n",
    "        sum1=sum1+i\n",
    "    print(sum1)\n",
    "ar(1,2,3,4,5,6,7)"
   ]
  },
  {
   "cell_type": "code",
   "execution_count": 10,
   "metadata": {},
   "outputs": [
    {
     "name": "stdout",
     "output_type": "stream",
     "text": [
      "first == ruchi\n",
      "mid == munmun\n",
      "last == nunu\n",
      "last1 == ishita\n"
     ]
    }
   ],
   "source": [
    "#kwargs\n",
    "def kwar(**kwargs):\n",
    "    for i,j in kwargs.items():\n",
    "        print(i,\"==\",j)\n",
    "kwar(first=\"ruchi\",mid=\"munmun\",last=\"nunu\",last1=\"ishita\")"
   ]
  },
  {
   "cell_type": "code",
   "execution_count": 1,
   "metadata": {},
   "outputs": [
    {
     "name": "stdout",
     "output_type": "stream",
     "text": [
      "sachin 22\n",
      "dhoni 44\n",
      "virat 43\n"
     ]
    }
   ],
   "source": [
    "players=[\"sachin\",\"dhoni\",\"virat\"]\n",
    "score=[\"22\",\"44\",\"43\"]\n",
    "for players,score in zip(players,score):\n",
    "    print(players,score)"
   ]
  },
  {
   "cell_type": "code",
   "execution_count": 4,
   "metadata": {},
   "outputs": [
    {
     "name": "stdout",
     "output_type": "stream",
     "text": [
      "(1, 'ruchi')\n",
      "(2, 'mun')\n",
      "(3, 'munmun')\n"
     ]
    }
   ],
   "source": [
    "names=[\"ruchi\",\"mun\",\"munmun\"]\n",
    "for i in enumerate(names,1):\n",
    "    print(i)"
   ]
  },
  {
   "cell_type": "code",
   "execution_count": 8,
   "metadata": {},
   "outputs": [
    {
     "name": "stdout",
     "output_type": "stream",
     "text": [
      "(0, ('ruchi', 'rohi'))\n",
      "(1, ('mun', 'kanika'))\n",
      "(2, ('munmun', 'ki'))\n"
     ]
    }
   ],
   "source": [
    "names=[\"ruchi\",\"mun\",\"munmun\"]\n",
    "names2=[\"rohi\",\"kanika\",\"ki\"]\n",
    "for i in enumerate(zip(names,names2)):\n",
    "    print(i)"
   ]
  },
  {
   "cell_type": "code",
   "execution_count": 11,
   "metadata": {},
   "outputs": [
    {
     "name": "stdout",
     "output_type": "stream",
     "text": [
      "3900.0\n"
     ]
    }
   ],
   "source": [
    "def task(a=1,b=2,*args ,multiply=False,division=False):\n",
    "    add=a+b++sum(args)\n",
    "    if multiply:\n",
    "        add *=100\n",
    "    if division:\n",
    "        add/=3\n",
    "        return add\n",
    "dct={\"multiply\":True,\"division\":\"true\"}\n",
    "#print(task(10,20,30,40,17,mul=True,div=True))  \n",
    "print(task(10,20,30,40,17,**dct)) "
   ]
  },
  {
   "cell_type": "code",
   "execution_count": 20,
   "metadata": {},
   "outputs": [
    {
     "name": "stdout",
     "output_type": "stream",
     "text": [
      "[1, 1, 5, 10, 16]\n"
     ]
    }
   ],
   "source": [
    "from itertools import accumulate\n",
    "data=[1,0,4,5,6]\n",
    "print(list(accumulate(data)))"
   ]
  },
  {
   "cell_type": "code",
   "execution_count": 21,
   "metadata": {},
   "outputs": [
    {
     "name": "stdout",
     "output_type": "stream",
     "text": [
      "[(1, 6), (2, 7), (3, 8), (None, 9)]\n"
     ]
    }
   ],
   "source": [
    "from itertools import zip_longest\n",
    "a=[1,2,3]\n",
    "b=[6,7,8,9]\n",
    "print(list(zip_longest(a,b,fillvalue=None)))"
   ]
  },
  {
   "cell_type": "code",
   "execution_count": null,
   "metadata": {},
   "outputs": [],
   "source": []
  }
 ],
 "metadata": {
  "kernelspec": {
   "display_name": "Python 3",
   "language": "python",
   "name": "python3"
  },
  "language_info": {
   "codemirror_mode": {
    "name": "ipython",
    "version": 3
   },
   "file_extension": ".py",
   "mimetype": "text/x-python",
   "name": "python",
   "nbconvert_exporter": "python",
   "pygments_lexer": "ipython3",
   "version": "3.6.5"
  }
 },
 "nbformat": 4,
 "nbformat_minor": 2
}
